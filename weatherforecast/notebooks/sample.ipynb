{
 "cells": [
  {
   "cell_type": "code",
   "execution_count": 2,
   "metadata": {},
   "outputs": [],
   "source": [
    "import selenium.webdriver\n",
    "import os\n",
    "from time import sleep\n",
    "import datetime\n",
    "from webdriver_manager.chrome import ChromeDriverManager\n",
    "from selenium.webdriver.common.by import By"
   ]
  },
  {
   "cell_type": "code",
   "execution_count": 3,
   "metadata": {},
   "outputs": [
    {
     "name": "stderr",
     "output_type": "stream",
     "text": [
      "C:\\Users\\hidet\\AppData\\Local\\Temp\\ipykernel_24620\\4030659027.py:1: DeprecationWarning: executable_path has been deprecated, please pass in a Service object\n",
      "  driver = selenium.webdriver.Chrome(ChromeDriverManager().install())\n"
     ]
    }
   ],
   "source": [
    "driver = selenium.webdriver.Chrome(ChromeDriverManager().install())\n",
    "driver.get('https://www.jma.go.jp/bosai/forecast/#area_type=class20s&area_code=1421000')"
   ]
  },
  {
   "cell_type": "code",
   "execution_count": 20,
   "metadata": {},
   "outputs": [],
   "source": [
    "def get_information(class_name: str) -> list:\n",
    "    infos = driver.find_elements(by=By.TAG_NAME, value=class_name)\n",
    "    td_values = []\n",
    "    for info in infos:\n",
    "        value = info.text\n",
    "        td_values.append(value)\n",
    "\n",
    "    return td_values"
   ]
  },
  {
   "cell_type": "code",
   "execution_count": 21,
   "metadata": {},
   "outputs": [],
   "source": [
    "tenkiurl = 'https://www.jma.go.jp/bosai/forecast/#area_type=class20s&area_code=1421000'\n",
    "driver.get(tenkiurl)\n",
    "td_forecast_sentence = get_information('td.forecast-sentence')"
   ]
  },
  {
   "cell_type": "code",
   "execution_count": 22,
   "metadata": {},
   "outputs": [
    {
     "data": {
      "text/plain": [
       "[]"
      ]
     },
     "execution_count": 22,
     "metadata": {},
     "output_type": "execute_result"
    }
   ],
   "source": [
    "td_forecast_sentence"
   ]
  },
  {
   "cell_type": "code",
   "execution_count": null,
   "metadata": {},
   "outputs": [],
   "source": []
  }
 ],
 "metadata": {
  "kernelspec": {
   "display_name": "Python 3.9.1 ('.venv': venv)",
   "language": "python",
   "name": "python3"
  },
  "language_info": {
   "codemirror_mode": {
    "name": "ipython",
    "version": 3
   },
   "file_extension": ".py",
   "mimetype": "text/x-python",
   "name": "python",
   "nbconvert_exporter": "python",
   "pygments_lexer": "ipython3",
   "version": "3.9.1"
  },
  "orig_nbformat": 4,
  "vscode": {
   "interpreter": {
    "hash": "18f789c8038659df463f8715a00b81a462f7d2d92499a5ccf8dc2a4e5039b608"
   }
  }
 },
 "nbformat": 4,
 "nbformat_minor": 2
}
